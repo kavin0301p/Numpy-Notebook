{
 "cells": [
  {
   "cell_type": "markdown",
   "id": "a6fbc855",
   "metadata": {
    "papermill": {
     "duration": 0.013387,
     "end_time": "2025-01-31T20:32:51.742595",
     "exception": false,
     "start_time": "2025-01-31T20:32:51.729208",
     "status": "completed"
    },
    "tags": []
   },
   "source": [
    "# **NUMPY NOTEBOOK BY KAVIN**"
   ]
  },
  {
   "cell_type": "markdown",
   "id": "2df8ff37",
   "metadata": {
    "papermill": {
     "duration": 0.006867,
     "end_time": "2025-01-31T20:32:51.756905",
     "exception": false,
     "start_time": "2025-01-31T20:32:51.750038",
     "status": "completed"
    },
    "tags": []
   },
   "source": [
    "**HOW TO CREATE NUMPY ARRAYS**\n",
    "\n",
    "np.array is a function that is used to create a numpy array"
   ]
  },
  {
   "cell_type": "code",
   "execution_count": 1,
   "id": "f2618977",
   "metadata": {
    "_cell_guid": "b1076dfc-b9ad-4769-8c92-a6c4dae69d19",
    "_uuid": "8f2839f25d086af736a60e9eeb907d3b93b6e0e5",
    "execution": {
     "iopub.execute_input": "2025-01-31T20:32:51.774919Z",
     "iopub.status.busy": "2025-01-31T20:32:51.773925Z",
     "iopub.status.idle": "2025-01-31T20:32:51.791521Z",
     "shell.execute_reply": "2025-01-31T20:32:51.790634Z"
    },
    "papermill": {
     "duration": 0.02816,
     "end_time": "2025-01-31T20:32:51.793516",
     "exception": false,
     "start_time": "2025-01-31T20:32:51.765356",
     "status": "completed"
    },
    "tags": []
   },
   "outputs": [
    {
     "data": {
      "text/plain": [
       "array([73, 67, 43])"
      ]
     },
     "execution_count": 1,
     "metadata": {},
     "output_type": "execute_result"
    }
   ],
   "source": [
    "import numpy as np\n",
    "\n",
    "chennai = np.array([73,67,43])\n",
    "chennai"
   ]
  },
  {
   "cell_type": "code",
   "execution_count": 2,
   "id": "feb1be23",
   "metadata": {
    "execution": {
     "iopub.execute_input": "2025-01-31T20:32:51.810078Z",
     "iopub.status.busy": "2025-01-31T20:32:51.809768Z",
     "iopub.status.idle": "2025-01-31T20:32:51.815338Z",
     "shell.execute_reply": "2025-01-31T20:32:51.814387Z"
    },
    "papermill": {
     "duration": 0.016417,
     "end_time": "2025-01-31T20:32:51.817155",
     "exception": false,
     "start_time": "2025-01-31T20:32:51.800738",
     "status": "completed"
    },
    "tags": []
   },
   "outputs": [
    {
     "data": {
      "text/plain": [
       "numpy.ndarray"
      ]
     },
     "execution_count": 2,
     "metadata": {},
     "output_type": "execute_result"
    }
   ],
   "source": [
    "type(chennai)"
   ]
  },
  {
   "cell_type": "code",
   "execution_count": 3,
   "id": "d7e52bf1",
   "metadata": {
    "execution": {
     "iopub.execute_input": "2025-01-31T20:32:51.832804Z",
     "iopub.status.busy": "2025-01-31T20:32:51.832529Z",
     "iopub.status.idle": "2025-01-31T20:32:51.838590Z",
     "shell.execute_reply": "2025-01-31T20:32:51.837728Z"
    },
    "papermill": {
     "duration": 0.016585,
     "end_time": "2025-01-31T20:32:51.840998",
     "exception": false,
     "start_time": "2025-01-31T20:32:51.824413",
     "status": "completed"
    },
    "tags": []
   },
   "outputs": [
    {
     "data": {
      "text/plain": [
       "array([0.3, 0.5, 0.2])"
      ]
     },
     "execution_count": 3,
     "metadata": {},
     "output_type": "execute_result"
    }
   ],
   "source": [
    "weights = np.array([0.3, 0.5, 0.2])\n",
    "weights"
   ]
  },
  {
   "cell_type": "code",
   "execution_count": 4,
   "id": "322d4f9d",
   "metadata": {
    "execution": {
     "iopub.execute_input": "2025-01-31T20:32:51.862238Z",
     "iopub.status.busy": "2025-01-31T20:32:51.861922Z",
     "iopub.status.idle": "2025-01-31T20:32:51.867573Z",
     "shell.execute_reply": "2025-01-31T20:32:51.866608Z"
    },
    "papermill": {
     "duration": 0.015738,
     "end_time": "2025-01-31T20:32:51.869451",
     "exception": false,
     "start_time": "2025-01-31T20:32:51.853713",
     "status": "completed"
    },
    "tags": []
   },
   "outputs": [
    {
     "data": {
      "text/plain": [
       "numpy.ndarray"
      ]
     },
     "execution_count": 4,
     "metadata": {},
     "output_type": "execute_result"
    }
   ],
   "source": [
    "type(weights)"
   ]
  },
  {
   "cell_type": "markdown",
   "id": "db8b8018",
   "metadata": {
    "papermill": {
     "duration": 0.007313,
     "end_time": "2025-01-31T20:32:51.884132",
     "exception": false,
     "start_time": "2025-01-31T20:32:51.876819",
     "status": "completed"
    },
    "tags": []
   },
   "source": [
    "**Just like normal arrays or lists, the first element is the zeroth index**"
   ]
  },
  {
   "cell_type": "code",
   "execution_count": 5,
   "id": "4ae56375",
   "metadata": {
    "execution": {
     "iopub.execute_input": "2025-01-31T20:32:51.900784Z",
     "iopub.status.busy": "2025-01-31T20:32:51.899934Z",
     "iopub.status.idle": "2025-01-31T20:32:51.905922Z",
     "shell.execute_reply": "2025-01-31T20:32:51.904687Z"
    },
    "papermill": {
     "duration": 0.016437,
     "end_time": "2025-01-31T20:32:51.907837",
     "exception": false,
     "start_time": "2025-01-31T20:32:51.891400",
     "status": "completed"
    },
    "tags": []
   },
   "outputs": [
    {
     "name": "stdout",
     "output_type": "stream",
     "text": [
      "0.5\n",
      "73\n"
     ]
    }
   ],
   "source": [
    "print(weights[1])\n",
    "print(chennai[0])"
   ]
  },
  {
   "cell_type": "markdown",
   "id": "d076752d",
   "metadata": {
    "papermill": {
     "duration": 0.007168,
     "end_time": "2025-01-31T20:32:51.922322",
     "exception": false,
     "start_time": "2025-01-31T20:32:51.915154",
     "status": "completed"
    },
    "tags": []
   },
   "source": [
    "**OPERATIONS BY NUMPY**\n",
    "\n",
    "DOT PRODUCT \n",
    "* **np.dot(variable_1,variable_2)** is used to compute the dot product between two variables\n",
    "*  It can also be done through first multiplication with weights and then adding the next elements\n",
    "   (chennai*weights).sum() \n",
    "*  The * operator is used to calculate the product of two numpy arrays if they both are in same size\n",
    "*  The sum method **.sum()** is used to find the sum of elements in a matrix\n",
    "   \n"
   ]
  },
  {
   "cell_type": "code",
   "execution_count": 6,
   "id": "da47f857",
   "metadata": {
    "execution": {
     "iopub.execute_input": "2025-01-31T20:32:51.938906Z",
     "iopub.status.busy": "2025-01-31T20:32:51.938192Z",
     "iopub.status.idle": "2025-01-31T20:32:51.947140Z",
     "shell.execute_reply": "2025-01-31T20:32:51.946013Z"
    },
    "papermill": {
     "duration": 0.019815,
     "end_time": "2025-01-31T20:32:51.949415",
     "exception": false,
     "start_time": "2025-01-31T20:32:51.929600",
     "status": "completed"
    },
    "tags": []
   },
   "outputs": [
    {
     "name": "stdout",
     "output_type": "stream",
     "text": [
      "32\n",
      "[ 4 10 18]\n",
      "32\n",
      "6\n"
     ]
    }
   ],
   "source": [
    "arr1 = np.array([1, 2, 3])\n",
    "arr2 = np.array([4, 5, 6])\n",
    "\n",
    "print(np.dot(arr1, arr2))     #Computes the dot product\n",
    "print(arr1*arr2)              #Multiplication of two matrices\n",
    "print((arr1 *arr2).sum())     #Other way for computing dot product\n",
    "\n",
    "print(arr1.sum())            #Sum of elements in array 1"
   ]
  },
  {
   "cell_type": "markdown",
   "id": "2dc6e3c9",
   "metadata": {
    "papermill": {
     "duration": 0.007413,
     "end_time": "2025-01-31T20:32:51.964281",
     "exception": false,
     "start_time": "2025-01-31T20:32:51.956868",
     "status": "completed"
    },
    "tags": []
   },
   "source": [
    "**BENEFITS OF NUMPY ARRAYS compared to python lists**\n",
    "\n",
    "**Easy declaration** -> It is easy to declare numpy arrays and it is compatible for performing mathematical operations rather than defining loops and functions in python\n",
    "\n",
    "**Performance** -> Numpy operations are internally coded in C++ so the execution is fast compared to the python loops and functions"
   ]
  },
  {
   "cell_type": "markdown",
   "id": "20b99617",
   "metadata": {
    "papermill": {
     "duration": 0.007334,
     "end_time": "2025-01-31T20:32:51.979092",
     "exception": false,
     "start_time": "2025-01-31T20:32:51.971758",
     "status": "completed"
    },
    "tags": []
   },
   "source": [
    "**MULTIDIMENSIONAL NUMPY ARRAYS**\n",
    "* .shape is used to find the dimension of the matrix in 2D multidimensional numpy arrays\n"
   ]
  },
  {
   "cell_type": "code",
   "execution_count": 7,
   "id": "beabb925",
   "metadata": {
    "execution": {
     "iopub.execute_input": "2025-01-31T20:32:51.995757Z",
     "iopub.status.busy": "2025-01-31T20:32:51.995402Z",
     "iopub.status.idle": "2025-01-31T20:32:52.001359Z",
     "shell.execute_reply": "2025-01-31T20:32:52.000221Z"
    },
    "papermill": {
     "duration": 0.016898,
     "end_time": "2025-01-31T20:32:52.003361",
     "exception": false,
     "start_time": "2025-01-31T20:32:51.986463",
     "status": "completed"
    },
    "tags": []
   },
   "outputs": [
    {
     "name": "stdout",
     "output_type": "stream",
     "text": [
      "[[1 2 3]\n",
      " [4 5 6]\n",
      " [7 8 9]]\n",
      "(3, 3)\n"
     ]
    }
   ],
   "source": [
    "climate_data = np.array([[1, 2, 3],\n",
    "                [4, 5, 6],\n",
    "                [7, 8, 9]])\n",
    "print(climate_data)\n",
    "print(climate_data.shape)"
   ]
  },
  {
   "cell_type": "code",
   "execution_count": 8,
   "id": "e3c65ff6",
   "metadata": {
    "execution": {
     "iopub.execute_input": "2025-01-31T20:32:52.021085Z",
     "iopub.status.busy": "2025-01-31T20:32:52.020307Z",
     "iopub.status.idle": "2025-01-31T20:32:52.026877Z",
     "shell.execute_reply": "2025-01-31T20:32:52.025801Z"
    },
    "papermill": {
     "duration": 0.017711,
     "end_time": "2025-01-31T20:32:52.028870",
     "exception": false,
     "start_time": "2025-01-31T20:32:52.011159",
     "status": "completed"
    },
    "tags": []
   },
   "outputs": [
    {
     "name": "stdout",
     "output_type": "stream",
     "text": [
      "[[[1 2]\n",
      "  [3 4]]\n",
      "\n",
      " [[5 6]\n",
      "  [7 8]]]\n",
      "(2, 2, 2)\n"
     ]
    }
   ],
   "source": [
    "arr_3D = np.array([[[1,2],[3,4]],[[5,6],[7,8]]])\n",
    "print(arr_3D)\n",
    "print(arr_3D.shape)"
   ]
  },
  {
   "cell_type": "markdown",
   "id": "ace111d7",
   "metadata": {
    "papermill": {
     "duration": 0.007416,
     "end_time": "2025-01-31T20:32:52.043902",
     "exception": false,
     "start_time": "2025-01-31T20:32:52.036486",
     "status": "completed"
    },
    "tags": []
   },
   "source": [
    "**All the elements in a numpy array should have the same data type. It can be checked using .dtype**"
   ]
  },
  {
   "cell_type": "code",
   "execution_count": 9,
   "id": "bc13f4f4",
   "metadata": {
    "execution": {
     "iopub.execute_input": "2025-01-31T20:32:52.060503Z",
     "iopub.status.busy": "2025-01-31T20:32:52.060176Z",
     "iopub.status.idle": "2025-01-31T20:32:52.065216Z",
     "shell.execute_reply": "2025-01-31T20:32:52.064317Z"
    },
    "papermill": {
     "duration": 0.016365,
     "end_time": "2025-01-31T20:32:52.067820",
     "exception": false,
     "start_time": "2025-01-31T20:32:52.051455",
     "status": "completed"
    },
    "tags": []
   },
   "outputs": [
    {
     "name": "stdout",
     "output_type": "stream",
     "text": [
      "<U9\n",
      "float64\n"
     ]
    }
   ],
   "source": [
    "countries = np.array([\"India\", \"China\", \"Pakistan\", \"Sri Lanka\"])\n",
    "print(countries.dtype)\n",
    "\n",
    "print(weights.dtype)"
   ]
  },
  {
   "cell_type": "markdown",
   "id": "b5030657",
   "metadata": {
    "papermill": {
     "duration": 0.007425,
     "end_time": "2025-01-31T20:32:52.086820",
     "exception": false,
     "start_time": "2025-01-31T20:32:52.079395",
     "status": "completed"
    },
    "tags": []
   },
   "source": [
    "**Matrix multiplication**\n",
    "\n",
    "It can be done using np.matmul(mat_1, mat_2) or mat_1 @ mat_2"
   ]
  },
  {
   "cell_type": "code",
   "execution_count": 10,
   "id": "72f3f365",
   "metadata": {
    "execution": {
     "iopub.execute_input": "2025-01-31T20:32:52.103642Z",
     "iopub.status.busy": "2025-01-31T20:32:52.103013Z",
     "iopub.status.idle": "2025-01-31T20:32:52.109413Z",
     "shell.execute_reply": "2025-01-31T20:32:52.108428Z"
    },
    "papermill": {
     "duration": 0.017022,
     "end_time": "2025-01-31T20:32:52.111382",
     "exception": false,
     "start_time": "2025-01-31T20:32:52.094360",
     "status": "completed"
    },
    "tags": []
   },
   "outputs": [
    {
     "data": {
      "text/plain": [
       "array([1.9, 4.9, 7.9])"
      ]
     },
     "execution_count": 10,
     "metadata": {},
     "output_type": "execute_result"
    }
   ],
   "source": [
    "np.matmul(climate_data, weights)\n"
   ]
  },
  {
   "cell_type": "code",
   "execution_count": 11,
   "id": "a7b34b41",
   "metadata": {
    "execution": {
     "iopub.execute_input": "2025-01-31T20:32:52.128062Z",
     "iopub.status.busy": "2025-01-31T20:32:52.127749Z",
     "iopub.status.idle": "2025-01-31T20:32:52.133769Z",
     "shell.execute_reply": "2025-01-31T20:32:52.132798Z"
    },
    "papermill": {
     "duration": 0.016448,
     "end_time": "2025-01-31T20:32:52.135639",
     "exception": false,
     "start_time": "2025-01-31T20:32:52.119191",
     "status": "completed"
    },
    "tags": []
   },
   "outputs": [
    {
     "data": {
      "text/plain": [
       "array([1.9, 4.9, 7.9])"
      ]
     },
     "execution_count": 11,
     "metadata": {},
     "output_type": "execute_result"
    }
   ],
   "source": [
    "climate_data @ weights"
   ]
  },
  {
   "cell_type": "markdown",
   "id": "7b2f464b",
   "metadata": {
    "papermill": {
     "duration": 0.007722,
     "end_time": "2025-01-31T20:32:52.151351",
     "exception": false,
     "start_time": "2025-01-31T20:32:52.143629",
     "status": "completed"
    },
    "tags": []
   },
   "source": [
    "**MATRIX OPERATIONS USING NUMPY**"
   ]
  },
  {
   "cell_type": "code",
   "execution_count": 12,
   "id": "8141ab73",
   "metadata": {
    "execution": {
     "iopub.execute_input": "2025-01-31T20:32:52.168667Z",
     "iopub.status.busy": "2025-01-31T20:32:52.168375Z",
     "iopub.status.idle": "2025-01-31T20:32:52.176055Z",
     "shell.execute_reply": "2025-01-31T20:32:52.175035Z"
    },
    "papermill": {
     "duration": 0.018886,
     "end_time": "2025-01-31T20:32:52.178362",
     "exception": false,
     "start_time": "2025-01-31T20:32:52.159476",
     "status": "completed"
    },
    "tags": []
   },
   "outputs": [
    {
     "name": "stdout",
     "output_type": "stream",
     "text": [
      "[[21 23 25 27 29]\n",
      " [23 25 27 29 31]\n",
      " [25 27 29 31 33]]\n",
      "[[ 8  9 10 11 12]\n",
      " [ 9 10 11 12 13]\n",
      " [10 11 12 13 14]]\n",
      "[[19 19 19 19 19]\n",
      " [19 19 19 19 19]\n",
      " [19 19 19 19 19]]\n",
      "[[ 20  42  66  92 120]\n",
      " [ 42  66  92 120 150]\n",
      " [ 66  92 120 150 182]]\n",
      "[[10.  10.5 11.  11.5 12. ]\n",
      " [10.5 11.  11.5 12.  12.5]\n",
      " [11.  11.5 12.  12.5 13. ]]\n",
      "[[0 1 2 3 0]\n",
      " [1 2 3 0 1]\n",
      " [2 3 0 1 2]]\n"
     ]
    }
   ],
   "source": [
    "numpy_arr1 = np.array([[20,21,22,23,24], \n",
    "                       [21,22,23,24,25], \n",
    "                       [22,23,24,25,26]])\n",
    "numpy_arr2 = np.array([[1,2,3,4,5],\n",
    "                       [2,3,4,5,6],\n",
    "                       [3,4,5,6,7]])\n",
    "\n",
    "##Addition of two matrices\n",
    "print(numpy_arr1 + numpy_arr2)\n",
    "\n",
    "# Scalar addition to a matrix\n",
    "print(numpy_arr2 + 7)\n",
    "\n",
    "# Difference between two matrices\n",
    "print(numpy_arr1 - numpy_arr2)\n",
    "\n",
    "#Multiplication of two matrices\n",
    "print(numpy_arr1*numpy_arr2)\n",
    "\n",
    "#Division of a matrix by a scalar\n",
    "print(numpy_arr1 / 2)\n",
    "\n",
    "#Remainder of a matrix\n",
    "print(numpy_arr1 % 4)"
   ]
  },
  {
   "cell_type": "markdown",
   "id": "5630bf05",
   "metadata": {
    "papermill": {
     "duration": 0.007953,
     "end_time": "2025-01-31T20:32:52.194389",
     "exception": false,
     "start_time": "2025-01-31T20:32:52.186436",
     "status": "completed"
    },
    "tags": []
   },
   "source": [
    "**Array Broadcasting**\n",
    "\n",
    "Two different numpy arrays(2D array) which is a matrix of different dimensions can be added, subtracted and multiplied WHERE the numpy array with small dimension is multiplied to fill the matrix of bigger dimension"
   ]
  },
  {
   "cell_type": "code",
   "execution_count": 13,
   "id": "52451d9b",
   "metadata": {
    "execution": {
     "iopub.execute_input": "2025-01-31T20:32:52.211913Z",
     "iopub.status.busy": "2025-01-31T20:32:52.211605Z",
     "iopub.status.idle": "2025-01-31T20:32:52.218291Z",
     "shell.execute_reply": "2025-01-31T20:32:52.217272Z"
    },
    "papermill": {
     "duration": 0.017762,
     "end_time": "2025-01-31T20:32:52.220247",
     "exception": false,
     "start_time": "2025-01-31T20:32:52.202485",
     "status": "completed"
    },
    "tags": []
   },
   "outputs": [
    {
     "data": {
      "text/plain": [
       "(2, 2, 4)"
      ]
     },
     "execution_count": 13,
     "metadata": {},
     "output_type": "execute_result"
    }
   ],
   "source": [
    "arr4 = np.array([[[1,2,3,4],[5,6,7,8]],\n",
    "                 [[9,10,11,12],[13,14,15,16]]])\n",
    "arr4.shape"
   ]
  },
  {
   "cell_type": "code",
   "execution_count": 14,
   "id": "f273ff73",
   "metadata": {
    "execution": {
     "iopub.execute_input": "2025-01-31T20:32:52.237411Z",
     "iopub.status.busy": "2025-01-31T20:32:52.237131Z",
     "iopub.status.idle": "2025-01-31T20:32:52.242944Z",
     "shell.execute_reply": "2025-01-31T20:32:52.242034Z"
    },
    "papermill": {
     "duration": 0.016556,
     "end_time": "2025-01-31T20:32:52.244777",
     "exception": false,
     "start_time": "2025-01-31T20:32:52.228221",
     "status": "completed"
    },
    "tags": []
   },
   "outputs": [
    {
     "data": {
      "text/plain": [
       "(4,)"
      ]
     },
     "execution_count": 14,
     "metadata": {},
     "output_type": "execute_result"
    }
   ],
   "source": [
    "arr5 = np.array([3,3,3,3])\n",
    "arr5.shape"
   ]
  },
  {
   "cell_type": "code",
   "execution_count": 15,
   "id": "6d037d03",
   "metadata": {
    "execution": {
     "iopub.execute_input": "2025-01-31T20:32:52.262140Z",
     "iopub.status.busy": "2025-01-31T20:32:52.261846Z",
     "iopub.status.idle": "2025-01-31T20:32:52.267792Z",
     "shell.execute_reply": "2025-01-31T20:32:52.266742Z"
    },
    "papermill": {
     "duration": 0.017017,
     "end_time": "2025-01-31T20:32:52.269906",
     "exception": false,
     "start_time": "2025-01-31T20:32:52.252889",
     "status": "completed"
    },
    "tags": []
   },
   "outputs": [
    {
     "data": {
      "text/plain": [
       "(3,)"
      ]
     },
     "execution_count": 15,
     "metadata": {},
     "output_type": "execute_result"
    }
   ],
   "source": [
    "arr6 = np.array([2,3,4])\n",
    "arr6.shape"
   ]
  },
  {
   "cell_type": "code",
   "execution_count": 16,
   "id": "5037ccd4",
   "metadata": {
    "execution": {
     "iopub.execute_input": "2025-01-31T20:32:52.289496Z",
     "iopub.status.busy": "2025-01-31T20:32:52.288737Z",
     "iopub.status.idle": "2025-01-31T20:32:52.295796Z",
     "shell.execute_reply": "2025-01-31T20:32:52.294835Z"
    },
    "papermill": {
     "duration": 0.018651,
     "end_time": "2025-01-31T20:32:52.297849",
     "exception": false,
     "start_time": "2025-01-31T20:32:52.279198",
     "status": "completed"
    },
    "tags": []
   },
   "outputs": [
    {
     "data": {
      "text/plain": [
       "array([[[ 4,  5,  6,  7],\n",
       "        [ 8,  9, 10, 11]],\n",
       "\n",
       "       [[12, 13, 14, 15],\n",
       "        [16, 17, 18, 19]]])"
      ]
     },
     "execution_count": 16,
     "metadata": {},
     "output_type": "execute_result"
    }
   ],
   "source": [
    "arr4 + arr5"
   ]
  },
  {
   "cell_type": "code",
   "execution_count": 17,
   "id": "3c629923",
   "metadata": {
    "execution": {
     "iopub.execute_input": "2025-01-31T20:32:52.316163Z",
     "iopub.status.busy": "2025-01-31T20:32:52.315795Z",
     "iopub.status.idle": "2025-01-31T20:32:52.558534Z",
     "shell.execute_reply": "2025-01-31T20:32:52.557395Z"
    },
    "papermill": {
     "duration": 0.253992,
     "end_time": "2025-01-31T20:32:52.560214",
     "exception": true,
     "start_time": "2025-01-31T20:32:52.306222",
     "status": "failed"
    },
    "tags": []
   },
   "outputs": [
    {
     "ename": "ValueError",
     "evalue": "operands could not be broadcast together with shapes (2,2,4) (3,) ",
     "output_type": "error",
     "traceback": [
      "\u001b[0;31m---------------------------------------------------------------------------\u001b[0m",
      "\u001b[0;31mValueError\u001b[0m                                Traceback (most recent call last)",
      "Cell \u001b[0;32mIn[17], line 1\u001b[0m\n\u001b[0;32m----> 1\u001b[0m \u001b[43marr4\u001b[49m\u001b[43m \u001b[49m\u001b[38;5;241;43m+\u001b[39;49m\u001b[43m \u001b[49m\u001b[43marr6\u001b[49m    \u001b[38;5;66;03m#It cannot broadcast since, arr6 is not enough to fill the arr4\u001b[39;00m\n",
      "\u001b[0;31mValueError\u001b[0m: operands could not be broadcast together with shapes (2,2,4) (3,) "
     ]
    }
   ],
   "source": [
    "arr4 + arr6    #It cannot broadcast since, arr6 is not enough to fill the arr4"
   ]
  },
  {
   "cell_type": "markdown",
   "id": "b17b388d",
   "metadata": {
    "papermill": {
     "duration": null,
     "end_time": null,
     "exception": null,
     "start_time": null,
     "status": "pending"
    },
    "tags": []
   },
   "source": [
    "**ARRAY COMPARISON**\n",
    "\n",
    "Array comparison returns set of boolean values - True or False"
   ]
  },
  {
   "cell_type": "code",
   "execution_count": null,
   "id": "62839bb1",
   "metadata": {
    "execution": {
     "iopub.status.busy": "2024-05-29T16:04:40.750476Z",
     "iopub.status.idle": "2024-05-29T16:04:40.750975Z",
     "shell.execute_reply": "2024-05-29T16:04:40.750741Z",
     "shell.execute_reply.started": "2024-05-29T16:04:40.750723Z"
    },
    "papermill": {
     "duration": null,
     "end_time": null,
     "exception": null,
     "start_time": null,
     "status": "pending"
    },
    "tags": []
   },
   "outputs": [],
   "source": [
    "numPy_arr1 = np.array([[1,3,6],[5,7,9]])\n",
    "numPy_arr2 = np.array([[2,4,6],[5,7,8]])\n",
    "\n",
    "print(numPy_arr1 == numPy_arr2)\n",
    "print(numPy_arr1 != numPy_arr2)\n",
    "print(numPy_arr1 >= numPy_arr2)\n",
    "print(numPy_arr1 <= numPy_arr2)\n",
    "\n",
    "print((numPy_arr1 == numPy_arr2).sum())"
   ]
  },
  {
   "cell_type": "markdown",
   "id": "09babc47",
   "metadata": {
    "papermill": {
     "duration": null,
     "end_time": null,
     "exception": null,
     "start_time": null,
     "status": "pending"
    },
    "tags": []
   },
   "source": [
    "**ARRAY INDEXING AND SLICING**"
   ]
  },
  {
   "cell_type": "markdown",
   "id": "1c498b39",
   "metadata": {
    "papermill": {
     "duration": null,
     "end_time": null,
     "exception": null,
     "start_time": null,
     "status": "pending"
    },
    "tags": []
   },
   "source": [
    "**OTHER WAYS OF CREATING NUMPY ARRAY**"
   ]
  },
  {
   "cell_type": "code",
   "execution_count": null,
   "id": "00e7a165",
   "metadata": {
    "execution": {
     "iopub.status.busy": "2024-05-29T16:04:40.752747Z",
     "iopub.status.idle": "2024-05-29T16:04:40.753410Z",
     "shell.execute_reply": "2024-05-29T16:04:40.753106Z",
     "shell.execute_reply.started": "2024-05-29T16:04:40.753081Z"
    },
    "papermill": {
     "duration": null,
     "end_time": null,
     "exception": null,
     "start_time": null,
     "status": "pending"
    },
    "tags": []
   },
   "outputs": [],
   "source": [
    "print(np.ones([2,3])) #Matrix conatining one. Just enter the dimension of the matrix\n"
   ]
  },
  {
   "cell_type": "code",
   "execution_count": null,
   "id": "9bb59b81",
   "metadata": {
    "execution": {
     "iopub.status.busy": "2024-05-29T16:04:40.754848Z",
     "iopub.status.idle": "2024-05-29T16:04:40.755453Z",
     "shell.execute_reply": "2024-05-29T16:04:40.755181Z",
     "shell.execute_reply.started": "2024-05-29T16:04:40.755157Z"
    },
    "papermill": {
     "duration": null,
     "end_time": null,
     "exception": null,
     "start_time": null,
     "status": "pending"
    },
    "tags": []
   },
   "outputs": [],
   "source": [
    "print(np.zeros([2,2,3])) #Matrix containing only zeros made by inputing dimension of the matrix"
   ]
  },
  {
   "cell_type": "code",
   "execution_count": null,
   "id": "49e34f3e",
   "metadata": {
    "execution": {
     "iopub.status.busy": "2024-05-29T16:04:40.757281Z",
     "iopub.status.idle": "2024-05-29T16:04:40.758002Z",
     "shell.execute_reply": "2024-05-29T16:04:40.757583Z",
     "shell.execute_reply.started": "2024-05-29T16:04:40.757561Z"
    },
    "papermill": {
     "duration": null,
     "end_time": null,
     "exception": null,
     "start_time": null,
     "status": "pending"
    },
    "tags": []
   },
   "outputs": [],
   "source": [
    "np.eye(3)    #Identity matrix -> diagonal matrix elements are 1. Input the number of diagnol elements"
   ]
  },
  {
   "cell_type": "code",
   "execution_count": null,
   "id": "5768422a",
   "metadata": {
    "execution": {
     "iopub.status.busy": "2024-05-29T16:04:40.759852Z",
     "iopub.status.idle": "2024-05-29T16:04:40.760443Z",
     "shell.execute_reply": "2024-05-29T16:04:40.760232Z",
     "shell.execute_reply.started": "2024-05-29T16:04:40.760162Z"
    },
    "papermill": {
     "duration": null,
     "end_time": null,
     "exception": null,
     "start_time": null,
     "status": "pending"
    },
    "tags": []
   },
   "outputs": [],
   "source": [
    "# Random vector\n",
    "print(np.random.rand(3))\n",
    "print(np.random.rand(2,3))"
   ]
  },
  {
   "cell_type": "code",
   "execution_count": null,
   "id": "753898bb",
   "metadata": {
    "execution": {
     "iopub.status.busy": "2024-05-29T16:04:40.762072Z",
     "iopub.status.idle": "2024-05-29T16:04:40.762770Z",
     "shell.execute_reply": "2024-05-29T16:04:40.762477Z",
     "shell.execute_reply.started": "2024-05-29T16:04:40.762452Z"
    },
    "papermill": {
     "duration": null,
     "end_time": null,
     "exception": null,
     "start_time": null,
     "status": "pending"
    },
    "tags": []
   },
   "outputs": [],
   "source": [
    "#Random matrix\n",
    "np.random.randn(2,3)"
   ]
  },
  {
   "cell_type": "code",
   "execution_count": null,
   "id": "df3cc13e",
   "metadata": {
    "execution": {
     "iopub.status.busy": "2024-05-29T16:04:40.764737Z",
     "iopub.status.idle": "2024-05-29T16:04:40.765348Z",
     "shell.execute_reply": "2024-05-29T16:04:40.765065Z",
     "shell.execute_reply.started": "2024-05-29T16:04:40.765040Z"
    },
    "papermill": {
     "duration": null,
     "end_time": null,
     "exception": null,
     "start_time": null,
     "status": "pending"
    },
    "tags": []
   },
   "outputs": [],
   "source": [
    "#Array made up of a fixed value as its elements\n",
    "np.full([2,3],33)"
   ]
  },
  {
   "cell_type": "code",
   "execution_count": null,
   "id": "314ce15d",
   "metadata": {
    "execution": {
     "iopub.status.busy": "2024-05-29T16:04:40.767081Z",
     "iopub.status.idle": "2024-05-29T16:04:40.767656Z",
     "shell.execute_reply": "2024-05-29T16:04:40.767401Z",
     "shell.execute_reply.started": "2024-05-29T16:04:40.767378Z"
    },
    "papermill": {
     "duration": null,
     "end_time": null,
     "exception": null,
     "start_time": null,
     "status": "pending"
    },
    "tags": []
   },
   "outputs": [],
   "source": [
    "#Array made up of a given starting and ending number along with its common difference(increase amount)-> Range specified\n",
    "np.arange(3,40,2)"
   ]
  },
  {
   "cell_type": "code",
   "execution_count": null,
   "id": "3447cc17",
   "metadata": {
    "execution": {
     "iopub.status.busy": "2024-05-29T16:04:40.769417Z",
     "iopub.status.idle": "2024-05-29T16:04:40.770012Z",
     "shell.execute_reply": "2024-05-29T16:04:40.769724Z",
     "shell.execute_reply.started": "2024-05-29T16:04:40.769701Z"
    },
    "papermill": {
     "duration": null,
     "end_time": null,
     "exception": null,
     "start_time": null,
     "status": "pending"
    },
    "tags": []
   },
   "outputs": [],
   "source": [
    "#Equally spaced numbers in a range\n",
    "np.linspace(3,40,2)"
   ]
  },
  {
   "cell_type": "markdown",
   "id": "201956f5",
   "metadata": {
    "papermill": {
     "duration": null,
     "end_time": null,
     "exception": null,
     "start_time": null,
     "status": "pending"
    },
    "tags": []
   },
   "source": [
    "**ARRAY INDEXING AND SPLICING**\n",
    "\n"
   ]
  },
  {
   "cell_type": "code",
   "execution_count": null,
   "id": "0d8f540d",
   "metadata": {
    "execution": {
     "iopub.status.busy": "2024-05-29T16:04:40.771318Z",
     "iopub.status.idle": "2024-05-29T16:04:40.771719Z",
     "shell.execute_reply": "2024-05-29T16:04:40.771543Z",
     "shell.execute_reply.started": "2024-05-29T16:04:40.771528Z"
    },
    "papermill": {
     "duration": null,
     "end_time": null,
     "exception": null,
     "start_time": null,
     "status": "pending"
    },
    "tags": []
   },
   "outputs": [],
   "source": [
    "arr3 = np.array([\n",
    "    [[11, 12, 13, 14], \n",
    "     [13, 14, 15, 19]], \n",
    "    \n",
    "    [[15, 16, 17, 21], \n",
    "     [63, 92, 36, 18]], \n",
    "    \n",
    "    [[98, 32, 81, 23],      \n",
    "     [17, 18, 19.5, 43]]])\n",
    "arr3.shape\n"
   ]
  },
  {
   "cell_type": "code",
   "execution_count": null,
   "id": "f487d4b4",
   "metadata": {
    "execution": {
     "iopub.status.busy": "2024-05-29T16:04:40.773292Z",
     "iopub.status.idle": "2024-05-29T16:04:40.773725Z",
     "shell.execute_reply": "2024-05-29T16:04:40.773549Z",
     "shell.execute_reply.started": "2024-05-29T16:04:40.773532Z"
    },
    "papermill": {
     "duration": null,
     "end_time": null,
     "exception": null,
     "start_time": null,
     "status": "pending"
    },
    "tags": []
   },
   "outputs": [],
   "source": [
    "#To get a single element from the 3D array\n",
    "arr3[1,0,2]\n"
   ]
  },
  {
   "cell_type": "code",
   "execution_count": null,
   "id": "c23e5008",
   "metadata": {
    "execution": {
     "iopub.status.busy": "2024-05-29T16:04:40.777725Z",
     "iopub.status.idle": "2024-05-29T16:04:40.778205Z",
     "shell.execute_reply": "2024-05-29T16:04:40.778013Z",
     "shell.execute_reply.started": "2024-05-29T16:04:40.777996Z"
    },
    "papermill": {
     "duration": null,
     "end_time": null,
     "exception": null,
     "start_time": null,
     "status": "pending"
    },
    "tags": []
   },
   "outputs": [],
   "source": [
    "#Subarray using ranges\n"
   ]
  },
  {
   "cell_type": "markdown",
   "id": "f7709a8b",
   "metadata": {
    "papermill": {
     "duration": null,
     "end_time": null,
     "exception": null,
     "start_time": null,
     "status": "pending"
    },
    "tags": []
   },
   "source": [
    "**Zip function**\n",
    "\n",
    "Zip function is used to zip an input which is iterable to a tuple"
   ]
  },
  {
   "cell_type": "code",
   "execution_count": null,
   "id": "185361ad",
   "metadata": {
    "execution": {
     "iopub.execute_input": "2024-05-29T16:05:17.308078Z",
     "iopub.status.busy": "2024-05-29T16:05:17.307676Z",
     "iopub.status.idle": "2024-05-29T16:05:17.316472Z",
     "shell.execute_reply": "2024-05-29T16:05:17.314703Z",
     "shell.execute_reply.started": "2024-05-29T16:05:17.308049Z"
    },
    "papermill": {
     "duration": null,
     "end_time": null,
     "exception": null,
     "start_time": null,
     "status": "pending"
    },
    "tags": []
   },
   "outputs": [],
   "source": [
    "n_arr1 = np.array([1,2,3])\n",
    "n_arr2 = np.array([4,5,6])\n",
    "result = 0\n",
    "for x,y in zip(n_arr1, n_arr2):\n",
    "    result += x*y\n",
    "    \n",
    "print(result)"
   ]
  },
  {
   "cell_type": "markdown",
   "id": "380210c6",
   "metadata": {
    "papermill": {
     "duration": null,
     "end_time": null,
     "exception": null,
     "start_time": null,
     "status": "pending"
    },
    "tags": []
   },
   "source": [
    "**OPERATIONS OF NUMPY** LIKE RESHAPE ETC...."
   ]
  }
 ],
 "metadata": {
  "kaggle": {
   "accelerator": "none",
   "dataSources": [],
   "dockerImageVersionId": 30698,
   "isGpuEnabled": false,
   "isInternetEnabled": true,
   "language": "python",
   "sourceType": "notebook"
  },
  "kernelspec": {
   "display_name": "Python 3",
   "language": "python",
   "name": "python3"
  },
  "language_info": {
   "codemirror_mode": {
    "name": "ipython",
    "version": 3
   },
   "file_extension": ".py",
   "mimetype": "text/x-python",
   "name": "python",
   "nbconvert_exporter": "python",
   "pygments_lexer": "ipython3",
   "version": "3.10.13"
  },
  "papermill": {
   "default_parameters": {},
   "duration": 4.046101,
   "end_time": "2025-01-31T20:32:52.886567",
   "environment_variables": {},
   "exception": true,
   "input_path": "__notebook__.ipynb",
   "output_path": "__notebook__.ipynb",
   "parameters": {},
   "start_time": "2025-01-31T20:32:48.840466",
   "version": "2.5.0"
  }
 },
 "nbformat": 4,
 "nbformat_minor": 5
}
